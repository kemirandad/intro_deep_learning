{
 "cells": [
  {
   "cell_type": "markdown",
   "metadata": {},
   "source": [
    "# Introduction #\n",
    "\n",
    "In this exercise you'll train a neural network on the *Fuel Economy* dataset and then explore the effect of the learning rate and batch size on SGD.\n",
    "\n",
    "When you're ready, run this next cell to set everything up!"
   ]
  },
  {
   "cell_type": "code",
   "execution_count": 2,
   "metadata": {},
   "outputs": [],
   "source": [
    "# Setup plotting\n",
    "import matplotlib.pyplot as plt\n",
    "\n",
    "plt.style.use('seaborn-whitegrid')\n",
    "# Set Matplotlib defaults\n",
    "plt.rc('figure', autolayout=True)\n",
    "plt.rc('axes', labelweight='bold', labelsize='large',\n",
    "       titleweight='bold', titlesize=18, titlepad=10)\n",
    "plt.rc('animation', html='html5')"
   ]
  },
  {
   "cell_type": "markdown",
   "metadata": {},
   "source": [
    "In the *Fuel Economy* dataset your task is to predict the fuel economy of an automobile given features like its type of engine or the year it was made. \n",
    "\n",
    "First load the dataset by running the cell below."
   ]
  },
  {
   "cell_type": "code",
   "execution_count": 30,
   "metadata": {},
   "outputs": [
    {
     "name": "stdout",
     "output_type": "stream",
     "text": [
      "Input shape: [50]\n"
     ]
    }
   ],
   "source": [
    "import numpy as np\n",
    "import pandas as pd\n",
    "from sklearn.preprocessing import StandardScaler, OneHotEncoder\n",
    "from sklearn.compose import make_column_transformer, make_column_selector\n",
    "from sklearn.model_selection import train_test_split\n",
    "from tensorflow.keras.callbacks import ModelCheckpoint, EarlyStopping\n",
    "\n",
    "fuel = pd.read_csv('../data/fuel.csv')\n",
    "\n",
    "X = fuel.copy()\n",
    "# Remove target\n",
    "y = X.pop('FE')\n",
    "\n",
    "preprocessor = make_column_transformer(\n",
    "    (StandardScaler(),\n",
    "     make_column_selector(dtype_include=np.number)),\n",
    "    (OneHotEncoder(sparse=False),\n",
    "     make_column_selector(dtype_include=object)),\n",
    ")\n",
    "\n",
    "X = preprocessor.fit_transform(X)\n",
    "y = np.log(y) # log transform target instead of standardizing\n",
    "\n",
    "input_shape = [X.shape[1]]\n",
    "print(\"Input shape: {}\".format(input_shape))"
   ]
  },
  {
   "cell_type": "code",
   "execution_count": 9,
   "metadata": {},
   "outputs": [
    {
     "data": {
      "text/html": [
       "<div>\n",
       "<style scoped>\n",
       "    .dataframe tbody tr th:only-of-type {\n",
       "        vertical-align: middle;\n",
       "    }\n",
       "\n",
       "    .dataframe tbody tr th {\n",
       "        vertical-align: top;\n",
       "    }\n",
       "\n",
       "    .dataframe thead th {\n",
       "        text-align: right;\n",
       "    }\n",
       "</style>\n",
       "<table border=\"1\" class=\"dataframe\">\n",
       "  <thead>\n",
       "    <tr style=\"text-align: right;\">\n",
       "      <th></th>\n",
       "      <th>EngDispl</th>\n",
       "      <th>NumCyl</th>\n",
       "      <th>Transmission</th>\n",
       "      <th>FE</th>\n",
       "      <th>AirAspirationMethod</th>\n",
       "      <th>NumGears</th>\n",
       "      <th>TransLockup</th>\n",
       "      <th>TransCreeperGear</th>\n",
       "      <th>DriveDesc</th>\n",
       "      <th>IntakeValvePerCyl</th>\n",
       "      <th>ExhaustValvesPerCyl</th>\n",
       "      <th>CarlineClassDesc</th>\n",
       "      <th>VarValveTiming</th>\n",
       "      <th>VarValveLift</th>\n",
       "    </tr>\n",
       "  </thead>\n",
       "  <tbody>\n",
       "    <tr>\n",
       "      <th>0</th>\n",
       "      <td>4.7</td>\n",
       "      <td>8</td>\n",
       "      <td>AM6</td>\n",
       "      <td>28.0198</td>\n",
       "      <td>NaturallyAspirated</td>\n",
       "      <td>6</td>\n",
       "      <td>1</td>\n",
       "      <td>0</td>\n",
       "      <td>TwoWheelDriveRear</td>\n",
       "      <td>2</td>\n",
       "      <td>2</td>\n",
       "      <td>2Seaters</td>\n",
       "      <td>1</td>\n",
       "      <td>0</td>\n",
       "    </tr>\n",
       "    <tr>\n",
       "      <th>1</th>\n",
       "      <td>4.7</td>\n",
       "      <td>8</td>\n",
       "      <td>M6</td>\n",
       "      <td>25.6094</td>\n",
       "      <td>NaturallyAspirated</td>\n",
       "      <td>6</td>\n",
       "      <td>1</td>\n",
       "      <td>0</td>\n",
       "      <td>TwoWheelDriveRear</td>\n",
       "      <td>2</td>\n",
       "      <td>2</td>\n",
       "      <td>2Seaters</td>\n",
       "      <td>1</td>\n",
       "      <td>0</td>\n",
       "    </tr>\n",
       "    <tr>\n",
       "      <th>2</th>\n",
       "      <td>4.2</td>\n",
       "      <td>8</td>\n",
       "      <td>M6</td>\n",
       "      <td>26.8000</td>\n",
       "      <td>NaturallyAspirated</td>\n",
       "      <td>6</td>\n",
       "      <td>1</td>\n",
       "      <td>0</td>\n",
       "      <td>AllWheelDrive</td>\n",
       "      <td>2</td>\n",
       "      <td>2</td>\n",
       "      <td>2Seaters</td>\n",
       "      <td>1</td>\n",
       "      <td>0</td>\n",
       "    </tr>\n",
       "  </tbody>\n",
       "</table>\n",
       "</div>"
      ],
      "text/plain": [
       "   EngDispl  NumCyl Transmission       FE AirAspirationMethod  NumGears  \\\n",
       "0       4.7       8          AM6  28.0198  NaturallyAspirated         6   \n",
       "1       4.7       8           M6  25.6094  NaturallyAspirated         6   \n",
       "2       4.2       8           M6  26.8000  NaturallyAspirated         6   \n",
       "\n",
       "   TransLockup  TransCreeperGear          DriveDesc  IntakeValvePerCyl  \\\n",
       "0            1                 0  TwoWheelDriveRear                  2   \n",
       "1            1                 0  TwoWheelDriveRear                  2   \n",
       "2            1                 0      AllWheelDrive                  2   \n",
       "\n",
       "   ExhaustValvesPerCyl CarlineClassDesc  VarValveTiming  VarValveLift  \n",
       "0                    2         2Seaters               1             0  \n",
       "1                    2         2Seaters               1             0  \n",
       "2                    2         2Seaters               1             0  "
      ]
     },
     "metadata": {},
     "output_type": "display_data"
    },
    {
     "data": {
      "text/plain": [
       "(1107, 14)"
      ]
     },
     "metadata": {},
     "output_type": "display_data"
    },
    {
     "data": {
      "text/plain": [
       "(1107, 50)"
      ]
     },
     "metadata": {},
     "output_type": "display_data"
    }
   ],
   "source": [
    "from IPython.display import display\n",
    "\n",
    "display(fuel.head(3))\n",
    "display(fuel.shape)\n",
    "display(X.shape)"
   ]
  },
  {
   "cell_type": "code",
   "execution_count": 22,
   "metadata": {},
   "outputs": [
    {
     "name": "stdout",
     "output_type": "stream",
     "text": [
      "********************\n"
     ]
    },
    {
     "data": {
      "text/plain": [
       "S6       213\n",
       "M6       167\n",
       "A4       143\n",
       "A6       126\n",
       "A5       114\n",
       "M5       101\n",
       "A7        59\n",
       "AV        55\n",
       "S5        48\n",
       "S7        22\n",
       "S4        13\n",
       "AVS6      13\n",
       "AM6       11\n",
       "S8        11\n",
       "Other      6\n",
       "AM7        5\n",
       "Name: Transmission, dtype: int64"
      ]
     },
     "metadata": {},
     "output_type": "display_data"
    },
    {
     "name": "stdout",
     "output_type": "stream",
     "text": [
      "********************\n",
      "********************\n"
     ]
    },
    {
     "data": {
      "text/plain": [
       "NaturallyAspirated    921\n",
       "Turbocharged          168\n",
       "Supercharged           18\n",
       "Name: AirAspirationMethod, dtype: int64"
      ]
     },
     "metadata": {},
     "output_type": "display_data"
    },
    {
     "name": "stdout",
     "output_type": "stream",
     "text": [
      "********************\n",
      "********************\n"
     ]
    },
    {
     "data": {
      "text/plain": [
       "TwoWheelDriveFront        382\n",
       "TwoWheelDriveRear         350\n",
       "AllWheelDrive             205\n",
       "FourWheelDrive            159\n",
       "ParttimeFourWheelDrive     11\n",
       "Name: DriveDesc, dtype: int64"
      ]
     },
     "metadata": {},
     "output_type": "display_data"
    },
    {
     "name": "stdout",
     "output_type": "stream",
     "text": [
      "********************\n",
      "********************\n"
     ]
    },
    {
     "data": {
      "text/plain": [
       "SpecialPurposeVehicleSUV4WD        170\n",
       "CompactCars                        145\n",
       "MidsizeCars                        135\n",
       "SpecialPurposeVehicleSUV2WD        133\n",
       "SubcompactCars                     116\n",
       "LargeCars                           75\n",
       "SmallStationWagons                  68\n",
       "2Seaters                            67\n",
       "MinicompactCars                     49\n",
       "SmallPickupTrucks2WD                33\n",
       "StandardPickupTrucks4WD             29\n",
       "StandardPickupTrucks2WD             27\n",
       "SmallPickupTrucks4WD                22\n",
       "SpecialPurposeVehicleminivan2WD     15\n",
       "VansCargoTypes                      10\n",
       "Other                                9\n",
       "VansPassengerType                    4\n",
       "Name: CarlineClassDesc, dtype: int64"
      ]
     },
     "metadata": {},
     "output_type": "display_data"
    },
    {
     "name": "stdout",
     "output_type": "stream",
     "text": [
      "********************\n"
     ]
    }
   ],
   "source": [
    "for feature in fuel.select_dtypes(exclude=['int', 'float']):\n",
    "    print('*'*20)\n",
    "    display(fuel[feature].value_counts(ascending=False))\n",
    "    print('*'*20)\n"
   ]
  },
  {
   "cell_type": "markdown",
   "metadata": {},
   "source": [
    "Take a look at the data if you like. Our target in this case is the `'FE'` column and the remaining columns are the features."
   ]
  },
  {
   "cell_type": "code",
   "execution_count": 28,
   "metadata": {},
   "outputs": [
    {
     "data": {
      "text/html": [
       "<div>\n",
       "<style scoped>\n",
       "    .dataframe tbody tr th:only-of-type {\n",
       "        vertical-align: middle;\n",
       "    }\n",
       "\n",
       "    .dataframe tbody tr th {\n",
       "        vertical-align: top;\n",
       "    }\n",
       "\n",
       "    .dataframe thead th {\n",
       "        text-align: right;\n",
       "    }\n",
       "</style>\n",
       "<table border=\"1\" class=\"dataframe\">\n",
       "  <thead>\n",
       "    <tr style=\"text-align: right;\">\n",
       "      <th></th>\n",
       "      <th>EngDispl</th>\n",
       "      <th>NumCyl</th>\n",
       "      <th>Transmission</th>\n",
       "      <th>FE</th>\n",
       "      <th>AirAspirationMethod</th>\n",
       "      <th>NumGears</th>\n",
       "      <th>TransLockup</th>\n",
       "      <th>TransCreeperGear</th>\n",
       "      <th>DriveDesc</th>\n",
       "      <th>IntakeValvePerCyl</th>\n",
       "      <th>ExhaustValvesPerCyl</th>\n",
       "      <th>CarlineClassDesc</th>\n",
       "      <th>VarValveTiming</th>\n",
       "      <th>VarValveLift</th>\n",
       "    </tr>\n",
       "  </thead>\n",
       "  <tbody>\n",
       "    <tr>\n",
       "      <th>0</th>\n",
       "      <td>4.7</td>\n",
       "      <td>8</td>\n",
       "      <td>AM6</td>\n",
       "      <td>28.0198</td>\n",
       "      <td>NaturallyAspirated</td>\n",
       "      <td>6</td>\n",
       "      <td>1</td>\n",
       "      <td>0</td>\n",
       "      <td>TwoWheelDriveRear</td>\n",
       "      <td>2</td>\n",
       "      <td>2</td>\n",
       "      <td>2Seaters</td>\n",
       "      <td>1</td>\n",
       "      <td>0</td>\n",
       "    </tr>\n",
       "    <tr>\n",
       "      <th>1</th>\n",
       "      <td>4.7</td>\n",
       "      <td>8</td>\n",
       "      <td>M6</td>\n",
       "      <td>25.6094</td>\n",
       "      <td>NaturallyAspirated</td>\n",
       "      <td>6</td>\n",
       "      <td>1</td>\n",
       "      <td>0</td>\n",
       "      <td>TwoWheelDriveRear</td>\n",
       "      <td>2</td>\n",
       "      <td>2</td>\n",
       "      <td>2Seaters</td>\n",
       "      <td>1</td>\n",
       "      <td>0</td>\n",
       "    </tr>\n",
       "    <tr>\n",
       "      <th>2</th>\n",
       "      <td>4.2</td>\n",
       "      <td>8</td>\n",
       "      <td>M6</td>\n",
       "      <td>26.8000</td>\n",
       "      <td>NaturallyAspirated</td>\n",
       "      <td>6</td>\n",
       "      <td>1</td>\n",
       "      <td>0</td>\n",
       "      <td>AllWheelDrive</td>\n",
       "      <td>2</td>\n",
       "      <td>2</td>\n",
       "      <td>2Seaters</td>\n",
       "      <td>1</td>\n",
       "      <td>0</td>\n",
       "    </tr>\n",
       "    <tr>\n",
       "      <th>3</th>\n",
       "      <td>4.2</td>\n",
       "      <td>8</td>\n",
       "      <td>AM6</td>\n",
       "      <td>25.0451</td>\n",
       "      <td>NaturallyAspirated</td>\n",
       "      <td>6</td>\n",
       "      <td>1</td>\n",
       "      <td>0</td>\n",
       "      <td>AllWheelDrive</td>\n",
       "      <td>2</td>\n",
       "      <td>2</td>\n",
       "      <td>2Seaters</td>\n",
       "      <td>1</td>\n",
       "      <td>0</td>\n",
       "    </tr>\n",
       "    <tr>\n",
       "      <th>4</th>\n",
       "      <td>5.2</td>\n",
       "      <td>10</td>\n",
       "      <td>AM6</td>\n",
       "      <td>24.8000</td>\n",
       "      <td>NaturallyAspirated</td>\n",
       "      <td>6</td>\n",
       "      <td>0</td>\n",
       "      <td>0</td>\n",
       "      <td>AllWheelDrive</td>\n",
       "      <td>2</td>\n",
       "      <td>2</td>\n",
       "      <td>2Seaters</td>\n",
       "      <td>1</td>\n",
       "      <td>0</td>\n",
       "    </tr>\n",
       "  </tbody>\n",
       "</table>\n",
       "</div>"
      ],
      "text/plain": [
       "   EngDispl  NumCyl Transmission       FE AirAspirationMethod  NumGears  \\\n",
       "0       4.7       8          AM6  28.0198  NaturallyAspirated         6   \n",
       "1       4.7       8           M6  25.6094  NaturallyAspirated         6   \n",
       "2       4.2       8           M6  26.8000  NaturallyAspirated         6   \n",
       "3       4.2       8          AM6  25.0451  NaturallyAspirated         6   \n",
       "4       5.2      10          AM6  24.8000  NaturallyAspirated         6   \n",
       "\n",
       "   TransLockup  TransCreeperGear          DriveDesc  IntakeValvePerCyl  \\\n",
       "0            1                 0  TwoWheelDriveRear                  2   \n",
       "1            1                 0  TwoWheelDriveRear                  2   \n",
       "2            1                 0      AllWheelDrive                  2   \n",
       "3            1                 0      AllWheelDrive                  2   \n",
       "4            0                 0      AllWheelDrive                  2   \n",
       "\n",
       "   ExhaustValvesPerCyl CarlineClassDesc  VarValveTiming  VarValveLift  \n",
       "0                    2         2Seaters               1             0  \n",
       "1                    2         2Seaters               1             0  \n",
       "2                    2         2Seaters               1             0  \n",
       "3                    2         2Seaters               1             0  \n",
       "4                    2         2Seaters               1             0  "
      ]
     },
     "metadata": {},
     "output_type": "display_data"
    },
    {
     "data": {
      "text/plain": [
       "(1107, 14)"
      ]
     },
     "metadata": {},
     "output_type": "display_data"
    },
    {
     "data": {
      "text/plain": [
       "55350"
      ]
     },
     "execution_count": 28,
     "metadata": {},
     "output_type": "execute_result"
    }
   ],
   "source": [
    "# Uncomment to see original data\n",
    "display(fuel.head(), fuel.shape)\n",
    "# Uncomment to see processed features\n",
    "pd.DataFrame(X[:,:]).size"
   ]
  },
  {
   "cell_type": "markdown",
   "metadata": {},
   "source": [
    "Run the next cell to define the network we'll use for this task."
   ]
  },
  {
   "cell_type": "code",
   "execution_count": 26,
   "metadata": {},
   "outputs": [
    {
     "name": "stderr",
     "output_type": "stream",
     "text": [
      "2022-01-05 17:44:05.437085: I tensorflow/compiler/jit/xla_cpu_device.cc:41] Not creating XLA devices, tf_xla_enable_xla_devices not set\n",
      "2022-01-05 17:44:05.438259: I tensorflow/core/platform/cpu_feature_guard.cc:142] This TensorFlow binary is optimized with oneAPI Deep Neural Network Library (oneDNN) to use the following CPU instructions in performance-critical operations:  SSE4.1 SSE4.2 AVX AVX2 FMA\n",
      "To enable them in other operations, rebuild TensorFlow with the appropriate compiler flags.\n",
      "2022-01-05 17:44:05.445384: I tensorflow/core/common_runtime/process_util.cc:146] Creating new thread pool with default inter op setting: 2. Tune using inter_op_parallelism_threads for best performance.\n"
     ]
    }
   ],
   "source": [
    "from tensorflow import keras\n",
    "from tensorflow.keras import layers\n",
    "\n",
    "model = keras.Sequential([\n",
    "    layers.Dense(128, activation='relu', input_shape=input_shape),\n",
    "    layers.Dense(128, activation='relu'),    \n",
    "    layers.Dense(64, activation='relu'),\n",
    "    layers.Dense(1),\n",
    "])"
   ]
  },
  {
   "cell_type": "code",
   "execution_count": 27,
   "metadata": {},
   "outputs": [
    {
     "name": "stdout",
     "output_type": "stream",
     "text": [
      "Model: \"sequential\"\n",
      "_________________________________________________________________\n",
      "Layer (type)                 Output Shape              Param #   \n",
      "=================================================================\n",
      "dense (Dense)                (None, 128)               6528      \n",
      "_________________________________________________________________\n",
      "dense_1 (Dense)              (None, 128)               16512     \n",
      "_________________________________________________________________\n",
      "dense_2 (Dense)              (None, 64)                8256      \n",
      "_________________________________________________________________\n",
      "dense_3 (Dense)              (None, 1)                 65        \n",
      "=================================================================\n",
      "Total params: 31,361\n",
      "Trainable params: 31,361\n",
      "Non-trainable params: 0\n",
      "_________________________________________________________________\n"
     ]
    }
   ],
   "source": [
    "model.summary()"
   ]
  },
  {
   "cell_type": "markdown",
   "metadata": {},
   "source": [
    "# 1) Add Loss and Optimizer\n",
    "\n",
    "Before training the network we need to define the loss and optimizer we'll use. Using the model's `compile` method, add the Adam optimizer and MAE loss."
   ]
  },
  {
   "cell_type": "code",
   "execution_count": 29,
   "metadata": {},
   "outputs": [],
   "source": [
    "# YOUR CODE HERE\n",
    "model.compile(optimizer='adam',\n",
    "             loss='mae',\n",
    "             metrics=['mae'])\n"
   ]
  },
  {
   "cell_type": "markdown",
   "metadata": {},
   "source": [
    "# 2) Train Model\n",
    "\n",
    "Once you've defined the model and compiled it with a loss and optimizer you're ready for training. Train the network for 200 epochs with a batch size of 128. The input data is `X` with target `y`."
   ]
  },
  {
   "cell_type": "code",
   "execution_count": 34,
   "metadata": {},
   "outputs": [],
   "source": [
    "stopping = EarlyStopping(monitor='loss',\n",
    "                         patience=20)"
   ]
  },
  {
   "cell_type": "code",
   "execution_count": 35,
   "metadata": {},
   "outputs": [
    {
     "name": "stdout",
     "output_type": "stream",
     "text": [
      "Epoch 1/200\n",
      "9/9 [==============================] - 0s 37ms/step - loss: 0.0460 - mae: 0.0460\n",
      "Epoch 2/200\n",
      "9/9 [==============================] - 0s 12ms/step - loss: 0.0424 - mae: 0.0424\n",
      "Epoch 3/200\n",
      "9/9 [==============================] - 0s 19ms/step - loss: 0.0385 - mae: 0.0385\n",
      "Epoch 4/200\n",
      "9/9 [==============================] - 0s 14ms/step - loss: 0.0396 - mae: 0.0396\n",
      "Epoch 5/200\n",
      "9/9 [==============================] - 0s 19ms/step - loss: 0.0370 - mae: 0.0370\n",
      "Epoch 6/200\n",
      "9/9 [==============================] - 0s 13ms/step - loss: 0.0346 - mae: 0.0346\n",
      "Epoch 7/200\n",
      "9/9 [==============================] - 0s 27ms/step - loss: 0.0423 - mae: 0.0423\n",
      "Epoch 8/200\n",
      "9/9 [==============================] - 0s 26ms/step - loss: 0.0519 - mae: 0.0519\n",
      "Epoch 9/200\n",
      "9/9 [==============================] - 0s 20ms/step - loss: 0.0532 - mae: 0.0532\n",
      "Epoch 10/200\n",
      "9/9 [==============================] - 0s 37ms/step - loss: 0.0591 - mae: 0.0591\n",
      "Epoch 11/200\n",
      "9/9 [==============================] - 0s 48ms/step - loss: 0.0559 - mae: 0.0559\n",
      "Epoch 12/200\n",
      "9/9 [==============================] - 0s 16ms/step - loss: 0.0422 - mae: 0.0422\n",
      "Epoch 13/200\n",
      "9/9 [==============================] - 0s 43ms/step - loss: 0.0370 - mae: 0.0370\n",
      "Epoch 14/200\n",
      "9/9 [==============================] - 0s 32ms/step - loss: 0.0345 - mae: 0.0345\n",
      "Epoch 15/200\n",
      "9/9 [==============================] - 0s 11ms/step - loss: 0.0320 - mae: 0.0320\n",
      "Epoch 16/200\n",
      "9/9 [==============================] - 0s 22ms/step - loss: 0.0322 - mae: 0.0322\n",
      "Epoch 17/200\n",
      "9/9 [==============================] - 0s 42ms/step - loss: 0.0348 - mae: 0.0348\n",
      "Epoch 18/200\n",
      "9/9 [==============================] - 0s 19ms/step - loss: 0.0337 - mae: 0.0337\n",
      "Epoch 19/200\n",
      "9/9 [==============================] - 0s 8ms/step - loss: 0.0334 - mae: 0.0334\n",
      "Epoch 20/200\n",
      "9/9 [==============================] - 0s 18ms/step - loss: 0.0377 - mae: 0.0377\n",
      "Epoch 21/200\n",
      "9/9 [==============================] - 0s 20ms/step - loss: 0.0420 - mae: 0.0420\n",
      "Epoch 22/200\n",
      "9/9 [==============================] - 0s 22ms/step - loss: 0.0393 - mae: 0.0393\n",
      "Epoch 23/200\n",
      "9/9 [==============================] - 0s 20ms/step - loss: 0.0468 - mae: 0.0468\n",
      "Epoch 24/200\n",
      "9/9 [==============================] - 0s 19ms/step - loss: 0.0450 - mae: 0.0450\n",
      "Epoch 25/200\n",
      "9/9 [==============================] - 0s 22ms/step - loss: 0.0402 - mae: 0.0402\n",
      "Epoch 26/200\n",
      "9/9 [==============================] - 0s 14ms/step - loss: 0.0409 - mae: 0.0409\n",
      "Epoch 27/200\n",
      "9/9 [==============================] - 0s 39ms/step - loss: 0.0378 - mae: 0.0378\n",
      "Epoch 28/200\n",
      "9/9 [==============================] - 0s 19ms/step - loss: 0.0367 - mae: 0.0367\n",
      "Epoch 29/200\n",
      "9/9 [==============================] - 0s 22ms/step - loss: 0.0351 - mae: 0.0351\n",
      "Epoch 30/200\n",
      "9/9 [==============================] - 0s 14ms/step - loss: 0.0355 - mae: 0.0355\n",
      "Epoch 31/200\n",
      "9/9 [==============================] - 0s 23ms/step - loss: 0.0333 - mae: 0.0333\n",
      "Epoch 32/200\n",
      "9/9 [==============================] - 0s 27ms/step - loss: 0.0313 - mae: 0.0313\n",
      "Epoch 33/200\n",
      "9/9 [==============================] - 0s 11ms/step - loss: 0.0341 - mae: 0.0341\n",
      "Epoch 34/200\n",
      "9/9 [==============================] - 0s 6ms/step - loss: 0.0341 - mae: 0.0341\n",
      "Epoch 35/200\n",
      "9/9 [==============================] - 0s 5ms/step - loss: 0.0350 - mae: 0.0350\n",
      "Epoch 36/200\n",
      "9/9 [==============================] - 0s 4ms/step - loss: 0.0323 - mae: 0.0323\n",
      "Epoch 37/200\n",
      "9/9 [==============================] - 0s 5ms/step - loss: 0.0355 - mae: 0.0355\n",
      "Epoch 38/200\n",
      "9/9 [==============================] - 0s 4ms/step - loss: 0.0340 - mae: 0.0340\n",
      "Epoch 39/200\n",
      "9/9 [==============================] - 0s 4ms/step - loss: 0.0329 - mae: 0.0329\n",
      "Epoch 40/200\n",
      "9/9 [==============================] - 0s 4ms/step - loss: 0.0309 - mae: 0.0309\n",
      "Epoch 41/200\n",
      "9/9 [==============================] - 0s 4ms/step - loss: 0.0391 - mae: 0.0391\n",
      "Epoch 42/200\n",
      "9/9 [==============================] - 0s 4ms/step - loss: 0.0428 - mae: 0.0428\n",
      "Epoch 43/200\n",
      "9/9 [==============================] - 0s 5ms/step - loss: 0.0405 - mae: 0.0405\n",
      "Epoch 44/200\n",
      "9/9 [==============================] - 0s 4ms/step - loss: 0.0371 - mae: 0.0371\n",
      "Epoch 45/200\n",
      "9/9 [==============================] - 0s 6ms/step - loss: 0.0357 - mae: 0.0357\n",
      "Epoch 46/200\n",
      "9/9 [==============================] - 0s 4ms/step - loss: 0.0298 - mae: 0.0298\n",
      "Epoch 47/200\n",
      "9/9 [==============================] - 0s 4ms/step - loss: 0.0308 - mae: 0.0308\n",
      "Epoch 48/200\n",
      "9/9 [==============================] - 0s 5ms/step - loss: 0.0294 - mae: 0.0294\n",
      "Epoch 49/200\n",
      "9/9 [==============================] - 0s 4ms/step - loss: 0.0315 - mae: 0.0315\n",
      "Epoch 50/200\n",
      "9/9 [==============================] - 0s 4ms/step - loss: 0.0298 - mae: 0.0298\n",
      "Epoch 51/200\n",
      "9/9 [==============================] - 0s 4ms/step - loss: 0.0329 - mae: 0.0329\n",
      "Epoch 52/200\n",
      "9/9 [==============================] - 0s 4ms/step - loss: 0.0321 - mae: 0.0321\n",
      "Epoch 53/200\n",
      "9/9 [==============================] - 0s 4ms/step - loss: 0.0345 - mae: 0.0345\n",
      "Epoch 54/200\n",
      "9/9 [==============================] - 0s 11ms/step - loss: 0.0379 - mae: 0.0379\n",
      "Epoch 55/200\n",
      "9/9 [==============================] - 0s 5ms/step - loss: 0.0288 - mae: 0.0288\n",
      "Epoch 56/200\n",
      "9/9 [==============================] - 0s 4ms/step - loss: 0.0295 - mae: 0.0295\n",
      "Epoch 57/200\n",
      "9/9 [==============================] - 0s 5ms/step - loss: 0.0329 - mae: 0.0329\n",
      "Epoch 58/200\n",
      "9/9 [==============================] - 0s 4ms/step - loss: 0.0292 - mae: 0.0292\n",
      "Epoch 59/200\n",
      "9/9 [==============================] - 0s 5ms/step - loss: 0.0296 - mae: 0.0296\n",
      "Epoch 60/200\n",
      "9/9 [==============================] - 0s 10ms/step - loss: 0.0268 - mae: 0.0268\n",
      "Epoch 61/200\n",
      "9/9 [==============================] - 0s 5ms/step - loss: 0.0287 - mae: 0.0287\n",
      "Epoch 62/200\n",
      "9/9 [==============================] - 0s 5ms/step - loss: 0.0291 - mae: 0.0291\n",
      "Epoch 63/200\n",
      "9/9 [==============================] - 0s 4ms/step - loss: 0.0290 - mae: 0.0290\n",
      "Epoch 64/200\n",
      "9/9 [==============================] - 0s 4ms/step - loss: 0.0304 - mae: 0.0304\n",
      "Epoch 65/200\n",
      "9/9 [==============================] - 0s 5ms/step - loss: 0.0322 - mae: 0.0322\n",
      "Epoch 66/200\n",
      "9/9 [==============================] - 0s 5ms/step - loss: 0.0363 - mae: 0.0363\n",
      "Epoch 67/200\n",
      "9/9 [==============================] - 0s 11ms/step - loss: 0.0330 - mae: 0.0330\n",
      "Epoch 68/200\n",
      "9/9 [==============================] - 0s 5ms/step - loss: 0.0299 - mae: 0.0299\n",
      "Epoch 69/200\n",
      "9/9 [==============================] - 0s 5ms/step - loss: 0.0326 - mae: 0.0326\n",
      "Epoch 70/200\n",
      "9/9 [==============================] - 0s 5ms/step - loss: 0.0313 - mae: 0.0313\n",
      "Epoch 71/200\n",
      "9/9 [==============================] - 0s 5ms/step - loss: 0.0331 - mae: 0.0331\n",
      "Epoch 72/200\n",
      "9/9 [==============================] - 0s 4ms/step - loss: 0.0394 - mae: 0.0394\n",
      "Epoch 73/200\n",
      "9/9 [==============================] - 0s 4ms/step - loss: 0.0389 - mae: 0.0389\n",
      "Epoch 74/200\n",
      "9/9 [==============================] - 0s 6ms/step - loss: 0.0354 - mae: 0.0354\n",
      "Epoch 75/200\n",
      "9/9 [==============================] - 0s 5ms/step - loss: 0.0326 - mae: 0.0326\n",
      "Epoch 76/200\n",
      "9/9 [==============================] - 0s 6ms/step - loss: 0.0295 - mae: 0.0295\n",
      "Epoch 77/200\n",
      "9/9 [==============================] - 0s 6ms/step - loss: 0.0324 - mae: 0.0324\n",
      "Epoch 78/200\n",
      "9/9 [==============================] - 0s 7ms/step - loss: 0.0303 - mae: 0.0303\n",
      "Epoch 79/200\n",
      "9/9 [==============================] - 0s 7ms/step - loss: 0.0337 - mae: 0.0337\n",
      "Epoch 80/200\n",
      "9/9 [==============================] - 0s 6ms/step - loss: 0.0348 - mae: 0.0348\n"
     ]
    }
   ],
   "source": [
    "# YOUR CODE HERE\n",
    "history = model.fit(X, y,\n",
    "                    batch_size=128,\n",
    "                   epochs=200,\n",
    "                   callbacks=[stopping])"
   ]
  },
  {
   "cell_type": "markdown",
   "metadata": {},
   "source": [
    "The last step is to look at the loss curves and evaluate the training. Run the cell below to get a plot of the training loss."
   ]
  },
  {
   "cell_type": "code",
   "execution_count": 36,
   "metadata": {},
   "outputs": [
    {
     "data": {
      "image/png": "[encoded data removed]",
      "text/plain": [
       "<Figure size 432x288 with 1 Axes>"
      ]
     },
     "metadata": {},
     "output_type": "display_data"
    }
   ],
   "source": [
    "history_df = pd.DataFrame(history.history)\n",
    "# Start the plot at epoch 5. You can change this to get a different view.\n",
    "history_df.loc[5:, ['loss']].plot();"
   ]
  },
  {
   "cell_type": "markdown",
   "metadata": {},
   "source": [
    "# 3) Evaluate Training\n",
    "\n",
    "If you trained the model longer, would you expect the loss to decrease further?"
   ]
  },
  {
   "cell_type": "markdown",
   "metadata": {},
   "source": [
    "This depends on how the loss has evolved during training: if the learning curves have levelled off, there won't usually be any advantage to training for additional epochs. Conversely, if the loss appears to still be decreasing, then training for longer could be advantageous."
   ]
  },
  {
   "cell_type": "markdown",
   "metadata": {},
   "source": [
    "With the learning rate and the batch size, you have some control over:\n",
    "- How long it takes to train a model\n",
    "- How noisy the learning curves are\n",
    "- How small the loss becomes\n",
    "\n",
    "To get a better understanding of these two parameters, we'll look at the linear model, our ppsimplest neural network. Having only a single weight and a bias, it's easier to see what effect a change of parameter has.\n",
    "\n",
    "The next cell will generate an animation like the one in the tutorial. Change the values for `learning_rate`, `batch_size`, and `num_examples` (how many data points) and then run the cell. (It may take a moment or two.) Try the following combinations, or try some of your own:\n",
    "\n",
    "| `learning_rate` | `batch_size` | `num_examples` |\n",
    "|-----------------|--------------|----------------|\n",
    "| 0.05            | 32           | 256            |\n",
    "| 0.05            | 2            | 256            |\n",
    "| 0.05            | 128          | 256            |\n",
    "| 0.02            | 32           | 256            |\n",
    "| 0.2             | 32           | 256            |\n",
    "| 1.0             | 32           | 256            |\n",
    "| 0.9             | 4096         | 8192           |\n",
    "| 0.99            | 4096         | 8192           |"
   ]
  },
  {
   "cell_type": "code",
   "execution_count": 40,
   "metadata": {},
   "outputs": [
    {
     "data": {
      "text/plain": [
       "'\\n# YOUR CODE HERE: Experiment with different values for the learning rate, batch size, and number of examples\\nlearning_rate = 0.1\\nbatch_size = 4096\\nnum_examples = 8192\\n\\nanimate_sgd(\\n    learning_rate=learning_rate,\\n    batch_size=batch_size,\\n    num_examples=num_examples,\\n    # You can also change these, if you like\\n    steps=50, # total training steps (batches seen)\\n    true_w=3.0, # the slope of the data\\n    true_b=2.0, # the bias of the data\\n)\\n'"
      ]
     },
     "execution_count": 40,
     "metadata": {},
     "output_type": "execute_result"
    }
   ],
   "source": [
    "\"\"\"\n",
    "# YOUR CODE HERE: Experiment with different values for the learning rate, batch size, and number of examples\n",
    "learning_rate = 0.1\n",
    "batch_size = 4096\n",
    "num_examples = 8192\n",
    "\n",
    "animate_sgd(\n",
    "    learning_rate=learning_rate,\n",
    "    batch_size=batch_size,\n",
    "    num_examples=num_examples,\n",
    "    # You can also change these, if you like\n",
    "    steps=50, # total training steps (batches seen)\n",
    "    true_w=3.0, # the slope of the data\n",
    "    true_b=2.0, # the bias of the data\n",
    ")\n",
    "\"\"\""
   ]
  },
  {
   "cell_type": "markdown",
   "metadata": {},
   "source": [
    "# 4) Learning Rate and Batch Size\n",
    "\n",
    "What effect did changing these parameters have? After you've thought about it, run the cell below for some discussion."
   ]
  },
  {
   "cell_type": "markdown",
   "metadata": {},
   "source": [
    "<p style='color: green'>Correct:</p>\n",
    "\n",
    "You probably saw that smaller batch sizes gave noisier weight updates and loss curves. This is because each batch is a small sample of data and smaller samples tend to give noisier estimates. Smaller batches can have an \"averaging\" effect though which can be beneficial.\n",
    "\n",
    "Smaller learning rates make the updates smaller and the training takes longer to converge. Large learning rates can speed up training, but don't \"settle in\" to a minimum as well. When the learning rate is too large, the training can fail completely. (Try setting the learning rate to a large value like 0.99 to see this.)"
   ]
  },
  {
   "cell_type": "code",
   "execution_count": null,
   "metadata": {},
   "outputs": [],
   "source": []
  }
 ],
 "metadata": {
  "interpreter": {
   "hash": "98ebd6681bbe0e113db900b62dbac20f4991abc4ff6872347a03acc8ab2ec634"
  },
  "kernelspec": {
   "display_name": "Python 3.9.7 64-bit ('deep_learn': conda)",
   "language": "python",
   "name": "python3"
  },
  "language_info": {
   "codemirror_mode": {
    "name": "ipython",
    "version": 3
   },
   "file_extension": ".py",
   "mimetype": "text/x-python",
   "name": "python",
   "nbconvert_exporter": "python",
   "pygments_lexer": "ipython3",
   "version": "3.9.7"
  },
  "orig_nbformat": 4
 },
 "nbformat": 4,
 "nbformat_minor": 2
}
